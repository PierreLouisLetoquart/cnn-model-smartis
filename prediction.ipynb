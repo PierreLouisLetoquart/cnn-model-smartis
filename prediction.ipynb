{
 "cells": [
  {
   "cell_type": "code",
   "execution_count": null,
   "id": "0e87ae9d-cdc9-46ea-9a63-6ab5893adc49",
   "metadata": {},
   "outputs": [],
   "source": [
    "import tensorflow as tf\n",
    "import numpy as np\n",
    "import cv2"
   ]
  },
  {
   "cell_type": "code",
   "execution_count": null,
   "id": "081370c2-f519-4f1b-b93f-38e24251b9ae",
   "metadata": {},
   "outputs": [],
   "source": [
    "# Load the model\n",
    "model = tf.keras.models.load_model('models/cnn-smartis.h5')"
   ]
  },
  {
   "cell_type": "code",
   "execution_count": null,
   "id": "06b977fc-d943-4069-ba8d-f1bcd221427b",
   "metadata": {},
   "outputs": [],
   "source": [
    "# Load and preprocess the image\n",
    "img = cv2.imread('test_dechets.jpg')\n",
    "img = cv2.resize(img, (256, 256))\n",
    "img = np.expand_dims(img, axis=0)\n",
    "img = img / 255.0"
   ]
  },
  {
   "cell_type": "code",
   "execution_count": null,
   "id": "1aab22f6-cb74-43cf-8988-ac288f371ff1",
   "metadata": {},
   "outputs": [],
   "source": [
    "# Make a prediction\n",
    "preds = model.predict(img)\n",
    "class_idx = np.argmax(preds)"
   ]
  },
  {
   "cell_type": "code",
   "execution_count": null,
   "id": "5df2231b-8fbb-417a-a9df-e8896ef91fe7",
   "metadata": {},
   "outputs": [],
   "source": [
    "# Print the predicted class\n",
    "print('Predicted class:', class_idx)"
   ]
  }
 ],
 "metadata": {
  "kernelspec": {
   "display_name": "Python 3 (ipykernel)",
   "language": "python",
   "name": "python3"
  },
  "language_info": {
   "codemirror_mode": {
    "name": "ipython",
    "version": 3
   },
   "file_extension": ".py",
   "mimetype": "text/x-python",
   "name": "python",
   "nbconvert_exporter": "python",
   "pygments_lexer": "ipython3",
   "version": "3.10.9"
  }
 },
 "nbformat": 4,
 "nbformat_minor": 5
}
