{
 "cells": [
  {
   "cell_type": "code",
   "execution_count": null,
   "id": "2416850e-659b-45cd-a4ff-09e478563d1e",
   "metadata": {},
   "outputs": [],
   "source": [
    "import tensorflow as tf\n",
    "from tensorflow.keras.models import Sequential\n",
    "from tensorflow.keras.layers import Conv2D, MaxPooling2D, Flatten, Dense, Dropout\n",
    "from tensorflow.keras.preprocessing.image import ImageDataGenerator"
   ]
  },
  {
   "cell_type": "code",
   "execution_count": 2,
   "id": "79516dab-5550-4e5a-bd18-b0e769312093",
   "metadata": {},
   "outputs": [],
   "source": [
    "# Parameters\n",
    "batch_size = 32\n",
    "img_height = 256\n",
    "img_width = 256"
   ]
  },
  {
   "cell_type": "code",
   "execution_count": 3,
   "id": "6fdedbfc-e752-466d-8371-56b5f9b2a756",
   "metadata": {},
   "outputs": [],
   "source": [
    "# Define directories\n",
    "train_dir = 'dataset/train'\n",
    "validation_dir = 'dataset/validation'"
   ]
  },
  {
   "cell_type": "code",
   "execution_count": 4,
   "id": "70aeafde-d8c7-416b-8d36-2d2a307664c4",
   "metadata": {},
   "outputs": [
    {
     "name": "stdout",
     "output_type": "stream",
     "text": [
      "Found 690 images belonging to 4 classes.\n",
      "Found 90 images belonging to 4 classes.\n"
     ]
    }
   ],
   "source": [
    "# Data generators\n",
    "train_datagen = ImageDataGenerator(\n",
    "        rescale=1./255,\n",
    "        shear_range=0.2,\n",
    "        zoom_range=0.2,\n",
    "        horizontal_flip=True)\n",
    "\n",
    "validation_datagen = ImageDataGenerator(rescale=1./255)\n",
    "\n",
    "train_generator = train_datagen.flow_from_directory(\n",
    "        train_dir,\n",
    "        target_size=(img_height, img_width),\n",
    "        batch_size=batch_size,\n",
    "        class_mode='categorical')\n",
    "\n",
    "validation_generator = validation_datagen.flow_from_directory(\n",
    "        validation_dir,\n",
    "        target_size=(img_height, img_width),\n",
    "        batch_size=batch_size,\n",
    "        class_mode='categorical')"
   ]
  },
  {
   "cell_type": "code",
   "execution_count": 5,
   "id": "0f01d29b-b513-4404-b4e7-b661eb189123",
   "metadata": {},
   "outputs": [],
   "source": [
    "# Define the model\n",
    "model = Sequential([\n",
    "    Conv2D(32, (3,3), activation='relu', input_shape=(img_height, img_width, 3)),\n",
    "    MaxPooling2D(pool_size=(2,2)),\n",
    "    Conv2D(64, (3,3), activation='relu'),\n",
    "    MaxPooling2D(pool_size=(2,2)),\n",
    "    Conv2D(128, (3,3), activation='relu'),\n",
    "    MaxPooling2D(pool_size=(2,2)),\n",
    "    Conv2D(256, (3,3), activation='relu'),\n",
    "    MaxPooling2D(pool_size=(2,2)),\n",
    "    Flatten(),\n",
    "    Dense(256, activation='relu'),\n",
    "    Dropout(0.5),\n",
    "    Dense(4, activation='softmax')\n",
    "])"
   ]
  },
  {
   "cell_type": "code",
   "execution_count": 6,
   "id": "fa89cd10-afc8-40ed-918b-375d7a4d070b",
   "metadata": {},
   "outputs": [],
   "source": [
    "# Compile the model\n",
    "model.compile(optimizer='adam', loss='categorical_crossentropy', metrics=['accuracy'])"
   ]
  },
  {
   "cell_type": "code",
   "execution_count": 7,
   "id": "69053cd9-e355-40ff-afd9-2dda70ab29be",
   "metadata": {
    "collapsed": true,
    "jupyter": {
     "outputs_hidden": true
    },
    "tags": []
   },
   "outputs": [
    {
     "name": "stdout",
     "output_type": "stream",
     "text": [
      "Epoch 1/20\n"
     ]
    },
    {
     "name": "stderr",
     "output_type": "stream",
     "text": [
      "2023-04-04 15:16:13.501025: I tensorflow/core/common_runtime/executor.cc:1197] [/device:CPU:0] (DEBUG INFO) Executor start aborting (this does not indicate an error and you can ignore this message): INVALID_ARGUMENT: You must feed a value for placeholder tensor 'Placeholder/_0' with dtype int32\n",
      "\t [[{{node Placeholder/_0}}]]\n"
     ]
    },
    {
     "name": "stdout",
     "output_type": "stream",
     "text": [
      " 7/21 [=========>....................] - ETA: 20s - loss: 1.7138 - accuracy: 0.2321"
     ]
    },
    {
     "name": "stderr",
     "output_type": "stream",
     "text": [
      "/home/pilou/anaconda3/lib/python3.10/site-packages/PIL/Image.py:996: UserWarning: Palette images with Transparency expressed in bytes should be converted to RGBA images\n",
      "  warnings.warn(\n"
     ]
    },
    {
     "name": "stdout",
     "output_type": "stream",
     "text": [
      "21/21 [==============================] - ETA: 0s - loss: 1.4632 - accuracy: 0.2781"
     ]
    },
    {
     "name": "stderr",
     "output_type": "stream",
     "text": [
      "2023-04-04 15:16:45.353444: I tensorflow/core/common_runtime/executor.cc:1197] [/device:CPU:0] (DEBUG INFO) Executor start aborting (this does not indicate an error and you can ignore this message): INVALID_ARGUMENT: You must feed a value for placeholder tensor 'Placeholder/_0' with dtype int32\n",
      "\t [[{{node Placeholder/_0}}]]\n"
     ]
    },
    {
     "name": "stdout",
     "output_type": "stream",
     "text": [
      "21/21 [==============================] - 34s 2s/step - loss: 1.4632 - accuracy: 0.2781 - val_loss: 1.3471 - val_accuracy: 0.3594\n",
      "Epoch 2/20\n",
      "21/21 [==============================] - 33s 2s/step - loss: 1.3188 - accuracy: 0.3191 - val_loss: 1.3663 - val_accuracy: 0.2656\n",
      "Epoch 3/20\n",
      "21/21 [==============================] - 33s 2s/step - loss: 1.3077 - accuracy: 0.3419 - val_loss: 1.3982 - val_accuracy: 0.2344\n",
      "Epoch 4/20\n",
      "21/21 [==============================] - 33s 2s/step - loss: 1.2321 - accuracy: 0.4058 - val_loss: 1.3447 - val_accuracy: 0.3125\n",
      "Epoch 5/20\n",
      "21/21 [==============================] - 33s 2s/step - loss: 1.1125 - accuracy: 0.5076 - val_loss: 2.5071 - val_accuracy: 0.2500\n",
      "Epoch 6/20\n",
      "21/21 [==============================] - 33s 2s/step - loss: 1.0376 - accuracy: 0.5365 - val_loss: 1.4416 - val_accuracy: 0.2969\n",
      "Epoch 7/20\n",
      "21/21 [==============================] - 33s 2s/step - loss: 1.0169 - accuracy: 0.5395 - val_loss: 1.3456 - val_accuracy: 0.4062\n",
      "Epoch 8/20\n",
      "21/21 [==============================] - 33s 2s/step - loss: 0.9958 - accuracy: 0.5729 - val_loss: 1.2674 - val_accuracy: 0.3750\n",
      "Epoch 9/20\n",
      "21/21 [==============================] - 33s 2s/step - loss: 0.9079 - accuracy: 0.5790 - val_loss: 1.4784 - val_accuracy: 0.4844\n",
      "Epoch 10/20\n",
      "21/21 [==============================] - 33s 2s/step - loss: 0.8631 - accuracy: 0.6337 - val_loss: 1.6952 - val_accuracy: 0.3906\n",
      "Epoch 11/20\n",
      "21/21 [==============================] - 33s 2s/step - loss: 0.7799 - accuracy: 0.6748 - val_loss: 1.8627 - val_accuracy: 0.4219\n",
      "Epoch 12/20\n",
      "21/21 [==============================] - 33s 2s/step - loss: 0.7255 - accuracy: 0.7158 - val_loss: 1.9290 - val_accuracy: 0.4219\n",
      "Epoch 13/20\n",
      "21/21 [==============================] - 33s 2s/step - loss: 0.7102 - accuracy: 0.7021 - val_loss: 2.1271 - val_accuracy: 0.3594\n",
      "Epoch 14/20\n",
      "21/21 [==============================] - 33s 2s/step - loss: 0.6620 - accuracy: 0.7432 - val_loss: 1.5326 - val_accuracy: 0.4688\n",
      "Epoch 15/20\n",
      "21/21 [==============================] - 32s 2s/step - loss: 0.6366 - accuracy: 0.7599 - val_loss: 1.4373 - val_accuracy: 0.5312\n",
      "Epoch 16/20\n",
      "21/21 [==============================] - 33s 2s/step - loss: 0.6004 - accuracy: 0.7812 - val_loss: 2.1554 - val_accuracy: 0.4531\n",
      "Epoch 17/20\n",
      "21/21 [==============================] - 33s 2s/step - loss: 0.5132 - accuracy: 0.8191 - val_loss: 2.0097 - val_accuracy: 0.5156\n",
      "Epoch 18/20\n",
      "21/21 [==============================] - 33s 2s/step - loss: 0.5191 - accuracy: 0.8024 - val_loss: 1.8941 - val_accuracy: 0.4844\n",
      "Epoch 19/20\n",
      "21/21 [==============================] - 33s 2s/step - loss: 0.4746 - accuracy: 0.8055 - val_loss: 2.3521 - val_accuracy: 0.4375\n",
      "Epoch 20/20\n",
      "21/21 [==============================] - 33s 2s/step - loss: 0.3865 - accuracy: 0.8480 - val_loss: 2.7841 - val_accuracy: 0.4375\n"
     ]
    }
   ],
   "source": [
    "# Train the model\n",
    "history = model.fit(\n",
    "        train_generator,\n",
    "        steps_per_epoch=train_generator.n//train_generator.batch_size,\n",
    "        epochs=20,\n",
    "        validation_data=validation_generator,\n",
    "        validation_steps=validation_generator.n//validation_generator.batch_size)"
   ]
  },
  {
   "cell_type": "code",
   "execution_count": 8,
   "id": "96664c4c-a5e3-4dc7-a915-c6c7d4a10c94",
   "metadata": {
    "collapsed": true,
    "jupyter": {
     "outputs_hidden": true
    },
    "tags": []
   },
   "outputs": [
    {
     "name": "stderr",
     "output_type": "stream",
     "text": [
      "2023-04-04 15:27:24.094470: I tensorflow/core/common_runtime/executor.cc:1197] [/device:CPU:0] (DEBUG INFO) Executor start aborting (this does not indicate an error and you can ignore this message): INVALID_ARGUMENT: You must feed a value for placeholder tensor 'Placeholder/_0' with dtype int32\n",
      "\t [[{{node Placeholder/_0}}]]\n"
     ]
    },
    {
     "name": "stdout",
     "output_type": "stream",
     "text": [
      "3/3 [==============================] - 2s 558ms/step - loss: 2.5499 - accuracy: 0.4778\n"
     ]
    },
    {
     "data": {
      "text/plain": [
       "[2.5498507022857666, 0.47777777910232544]"
      ]
     },
     "execution_count": 8,
     "metadata": {},
     "output_type": "execute_result"
    }
   ],
   "source": [
    "# Evaluate the model\n",
    "model.evaluate(validation_generator)"
   ]
  },
  {
   "cell_type": "code",
   "execution_count": null,
   "id": "cc1c7ee2-7394-47d2-b089-f0136b920d7a",
   "metadata": {},
   "outputs": [],
   "source": [
    "# Save the model\n",
    "model.save('models/cnn-smartis.h5')"
   ]
  }
 ],
 "metadata": {
  "kernelspec": {
   "display_name": "Python 3 (ipykernel)",
   "language": "python",
   "name": "python3"
  },
  "language_info": {
   "codemirror_mode": {
    "name": "ipython",
    "version": 3
   },
   "file_extension": ".py",
   "mimetype": "text/x-python",
   "name": "python",
   "nbconvert_exporter": "python",
   "pygments_lexer": "ipython3",
   "version": "3.10.9"
  }
 },
 "nbformat": 4,
 "nbformat_minor": 5
}
